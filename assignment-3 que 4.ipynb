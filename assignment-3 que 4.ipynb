{
 "cells": [
  {
   "cell_type": "code",
   "execution_count": 1,
   "id": "6668f72b",
   "metadata": {},
   "outputs": [],
   "source": [
    "import pandas as pd\n",
    "import numpy as np\n",
    "import matplotlib.pyplot as plt\n",
    "import seaborn as sns"
   ]
  },
  {
   "cell_type": "code",
   "execution_count": 2,
   "id": "7bf26875",
   "metadata": {},
   "outputs": [],
   "source": [
    "from sklearn.model_selection import train_test_split \n",
    "from sklearn.metrics import mean_absolute_error\n",
    "from sklearn.metrics import mean_squared_error\n",
    "from sklearn.metrics import r2_score"
   ]
  },
  {
   "cell_type": "code",
   "execution_count": 3,
   "id": "71e49378",
   "metadata": {},
   "outputs": [],
   "source": [
    "df = pd.read_csv('airbnb_listing_train.csv')\n"
   ]
  },
  {
   "cell_type": "code",
   "execution_count": 4,
   "id": "e8ea9d1c",
   "metadata": {},
   "outputs": [
    {
     "data": {
      "text/html": [
       "<div>\n",
       "<style scoped>\n",
       "    .dataframe tbody tr th:only-of-type {\n",
       "        vertical-align: middle;\n",
       "    }\n",
       "\n",
       "    .dataframe tbody tr th {\n",
       "        vertical-align: top;\n",
       "    }\n",
       "\n",
       "    .dataframe thead th {\n",
       "        text-align: right;\n",
       "    }\n",
       "</style>\n",
       "<table border=\"1\" class=\"dataframe\">\n",
       "  <thead>\n",
       "    <tr style=\"text-align: right;\">\n",
       "      <th></th>\n",
       "      <th>id</th>\n",
       "      <th>name</th>\n",
       "      <th>host_id</th>\n",
       "      <th>host_name</th>\n",
       "      <th>neighbourhood_group</th>\n",
       "      <th>neighbourhood</th>\n",
       "      <th>latitude</th>\n",
       "      <th>longitude</th>\n",
       "      <th>room_type</th>\n",
       "      <th>minimum_nights</th>\n",
       "      <th>number_of_reviews</th>\n",
       "      <th>last_review</th>\n",
       "      <th>reviews_per_month</th>\n",
       "      <th>calculated_host_listings_count</th>\n",
       "      <th>availability_365</th>\n",
       "      <th>price</th>\n",
       "    </tr>\n",
       "  </thead>\n",
       "  <tbody>\n",
       "    <tr>\n",
       "      <th>0</th>\n",
       "      <td>11602914</td>\n",
       "      <td>Luxury home 100m2+garden in center!</td>\n",
       "      <td>3123809</td>\n",
       "      <td>Marjolein</td>\n",
       "      <td>NaN</td>\n",
       "      <td>De Pijp - Rivierenbuurt</td>\n",
       "      <td>52.35368</td>\n",
       "      <td>4.90177</td>\n",
       "      <td>Entire home/apt</td>\n",
       "      <td>3</td>\n",
       "      <td>13</td>\n",
       "      <td>15-02-2020</td>\n",
       "      <td>0.27</td>\n",
       "      <td>1</td>\n",
       "      <td>0</td>\n",
       "      <td>220</td>\n",
       "    </tr>\n",
       "    <tr>\n",
       "      <th>1</th>\n",
       "      <td>13289321</td>\n",
       "      <td>East is where your home is!</td>\n",
       "      <td>10259430</td>\n",
       "      <td>Ana</td>\n",
       "      <td>NaN</td>\n",
       "      <td>Oud-Oost</td>\n",
       "      <td>52.35728</td>\n",
       "      <td>4.92052</td>\n",
       "      <td>Entire home/apt</td>\n",
       "      <td>4</td>\n",
       "      <td>14</td>\n",
       "      <td>19-06-2019</td>\n",
       "      <td>0.29</td>\n",
       "      <td>1</td>\n",
       "      <td>0</td>\n",
       "      <td>110</td>\n",
       "    </tr>\n",
       "    <tr>\n",
       "      <th>2</th>\n",
       "      <td>40779315</td>\n",
       "      <td>Amsterdam Central - LUXURY house in BUSY STREET</td>\n",
       "      <td>224969266</td>\n",
       "      <td>Mark</td>\n",
       "      <td>NaN</td>\n",
       "      <td>Centrum-West</td>\n",
       "      <td>52.37582</td>\n",
       "      <td>4.89850</td>\n",
       "      <td>Entire home/apt</td>\n",
       "      <td>2</td>\n",
       "      <td>9</td>\n",
       "      <td>16-03-2020</td>\n",
       "      <td>1.65</td>\n",
       "      <td>1</td>\n",
       "      <td>7</td>\n",
       "      <td>100</td>\n",
       "    </tr>\n",
       "    <tr>\n",
       "      <th>3</th>\n",
       "      <td>7820311</td>\n",
       "      <td>great appartment down town</td>\n",
       "      <td>693472</td>\n",
       "      <td>Ayden</td>\n",
       "      <td>NaN</td>\n",
       "      <td>Westerpark</td>\n",
       "      <td>52.37792</td>\n",
       "      <td>4.87300</td>\n",
       "      <td>Entire home/apt</td>\n",
       "      <td>3</td>\n",
       "      <td>42</td>\n",
       "      <td>17-02-2020</td>\n",
       "      <td>0.72</td>\n",
       "      <td>1</td>\n",
       "      <td>0</td>\n",
       "      <td>130</td>\n",
       "    </tr>\n",
       "    <tr>\n",
       "      <th>4</th>\n",
       "      <td>27346603</td>\n",
       "      <td>Private room with canal view in peaceful area</td>\n",
       "      <td>41888346</td>\n",
       "      <td>Alissa</td>\n",
       "      <td>NaN</td>\n",
       "      <td>Westerpark</td>\n",
       "      <td>52.38051</td>\n",
       "      <td>4.87493</td>\n",
       "      <td>Private room</td>\n",
       "      <td>2</td>\n",
       "      <td>89</td>\n",
       "      <td>26-02-2020</td>\n",
       "      <td>4.02</td>\n",
       "      <td>1</td>\n",
       "      <td>24</td>\n",
       "      <td>90</td>\n",
       "    </tr>\n",
       "  </tbody>\n",
       "</table>\n",
       "</div>"
      ],
      "text/plain": [
       "         id                                             name    host_id  \\\n",
       "0  11602914              Luxury home 100m2+garden in center!    3123809   \n",
       "1  13289321                      East is where your home is!   10259430   \n",
       "2  40779315  Amsterdam Central - LUXURY house in BUSY STREET  224969266   \n",
       "3   7820311                       great appartment down town     693472   \n",
       "4  27346603    Private room with canal view in peaceful area   41888346   \n",
       "\n",
       "   host_name  neighbourhood_group            neighbourhood  latitude  \\\n",
       "0  Marjolein                  NaN  De Pijp - Rivierenbuurt  52.35368   \n",
       "1        Ana                  NaN                 Oud-Oost  52.35728   \n",
       "2       Mark                  NaN             Centrum-West  52.37582   \n",
       "3      Ayden                  NaN               Westerpark  52.37792   \n",
       "4     Alissa                  NaN               Westerpark  52.38051   \n",
       "\n",
       "   longitude        room_type  minimum_nights  number_of_reviews last_review  \\\n",
       "0    4.90177  Entire home/apt               3                 13  15-02-2020   \n",
       "1    4.92052  Entire home/apt               4                 14  19-06-2019   \n",
       "2    4.89850  Entire home/apt               2                  9  16-03-2020   \n",
       "3    4.87300  Entire home/apt               3                 42  17-02-2020   \n",
       "4    4.87493     Private room               2                 89  26-02-2020   \n",
       "\n",
       "   reviews_per_month  calculated_host_listings_count  availability_365  price  \n",
       "0               0.27                               1                 0    220  \n",
       "1               0.29                               1                 0    110  \n",
       "2               1.65                               1                 7    100  \n",
       "3               0.72                               1                 0    130  \n",
       "4               4.02                               1                24     90  "
      ]
     },
     "execution_count": 4,
     "metadata": {},
     "output_type": "execute_result"
    }
   ],
   "source": [
    "df.head()"
   ]
  },
  {
   "cell_type": "code",
   "execution_count": 5,
   "id": "f1ae9ec5",
   "metadata": {},
   "outputs": [
    {
     "data": {
      "text/plain": [
       "(12901, 16)"
      ]
     },
     "execution_count": 5,
     "metadata": {},
     "output_type": "execute_result"
    }
   ],
   "source": [
    "df.shape"
   ]
  },
  {
   "cell_type": "code",
   "execution_count": 6,
   "id": "54b38d8f",
   "metadata": {},
   "outputs": [
    {
     "name": "stdout",
     "output_type": "stream",
     "text": [
      "<class 'pandas.core.frame.DataFrame'>\n",
      "RangeIndex: 12901 entries, 0 to 12900\n",
      "Data columns (total 16 columns):\n",
      " #   Column                          Non-Null Count  Dtype  \n",
      "---  ------                          --------------  -----  \n",
      " 0   id                              12901 non-null  int64  \n",
      " 1   name                            12879 non-null  object \n",
      " 2   host_id                         12901 non-null  int64  \n",
      " 3   host_name                       12893 non-null  object \n",
      " 4   neighbourhood_group             0 non-null      float64\n",
      " 5   neighbourhood                   12901 non-null  object \n",
      " 6   latitude                        12901 non-null  float64\n",
      " 7   longitude                       12901 non-null  float64\n",
      " 8   room_type                       12901 non-null  object \n",
      " 9   minimum_nights                  12901 non-null  int64  \n",
      " 10  number_of_reviews               12901 non-null  int64  \n",
      " 11  last_review                     11305 non-null  object \n",
      " 12  reviews_per_month               11305 non-null  float64\n",
      " 13  calculated_host_listings_count  12901 non-null  int64  \n",
      " 14  availability_365                12901 non-null  int64  \n",
      " 15  price                           12901 non-null  int64  \n",
      "dtypes: float64(4), int64(7), object(5)\n",
      "memory usage: 1.6+ MB\n"
     ]
    }
   ],
   "source": [
    "df.info()"
   ]
  },
  {
   "cell_type": "code",
   "execution_count": 7,
   "id": "b616e05b",
   "metadata": {},
   "outputs": [
    {
     "data": {
      "text/html": [
       "<div>\n",
       "<style scoped>\n",
       "    .dataframe tbody tr th:only-of-type {\n",
       "        vertical-align: middle;\n",
       "    }\n",
       "\n",
       "    .dataframe tbody tr th {\n",
       "        vertical-align: top;\n",
       "    }\n",
       "\n",
       "    .dataframe thead th {\n",
       "        text-align: right;\n",
       "    }\n",
       "</style>\n",
       "<table border=\"1\" class=\"dataframe\">\n",
       "  <thead>\n",
       "    <tr style=\"text-align: right;\">\n",
       "      <th></th>\n",
       "      <th>id</th>\n",
       "      <th>host_id</th>\n",
       "      <th>neighbourhood_group</th>\n",
       "      <th>latitude</th>\n",
       "      <th>longitude</th>\n",
       "      <th>minimum_nights</th>\n",
       "      <th>number_of_reviews</th>\n",
       "      <th>reviews_per_month</th>\n",
       "      <th>calculated_host_listings_count</th>\n",
       "      <th>availability_365</th>\n",
       "      <th>price</th>\n",
       "    </tr>\n",
       "  </thead>\n",
       "  <tbody>\n",
       "    <tr>\n",
       "      <th>count</th>\n",
       "      <td>1.290100e+04</td>\n",
       "      <td>1.290100e+04</td>\n",
       "      <td>0.0</td>\n",
       "      <td>12901.000000</td>\n",
       "      <td>12901.000000</td>\n",
       "      <td>12901.000000</td>\n",
       "      <td>12901.000000</td>\n",
       "      <td>11305.000000</td>\n",
       "      <td>12901.000000</td>\n",
       "      <td>12901.000000</td>\n",
       "      <td>12901.000000</td>\n",
       "    </tr>\n",
       "    <tr>\n",
       "      <th>mean</th>\n",
       "      <td>1.984923e+07</td>\n",
       "      <td>6.321700e+07</td>\n",
       "      <td>NaN</td>\n",
       "      <td>52.365313</td>\n",
       "      <td>4.889744</td>\n",
       "      <td>3.542516</td>\n",
       "      <td>24.803194</td>\n",
       "      <td>0.748501</td>\n",
       "      <td>2.136501</td>\n",
       "      <td>61.392295</td>\n",
       "      <td>166.959538</td>\n",
       "    </tr>\n",
       "    <tr>\n",
       "      <th>std</th>\n",
       "      <td>1.216241e+07</td>\n",
       "      <td>8.010814e+07</td>\n",
       "      <td>NaN</td>\n",
       "      <td>0.016418</td>\n",
       "      <td>0.036016</td>\n",
       "      <td>15.154077</td>\n",
       "      <td>53.406134</td>\n",
       "      <td>1.260791</td>\n",
       "      <td>6.001838</td>\n",
       "      <td>107.988329</td>\n",
       "      <td>234.794630</td>\n",
       "    </tr>\n",
       "    <tr>\n",
       "      <th>min</th>\n",
       "      <td>2.016800e+04</td>\n",
       "      <td>3.592000e+03</td>\n",
       "      <td>NaN</td>\n",
       "      <td>52.289270</td>\n",
       "      <td>4.755720</td>\n",
       "      <td>1.000000</td>\n",
       "      <td>0.000000</td>\n",
       "      <td>0.010000</td>\n",
       "      <td>1.000000</td>\n",
       "      <td>0.000000</td>\n",
       "      <td>6.000000</td>\n",
       "    </tr>\n",
       "    <tr>\n",
       "      <th>25%</th>\n",
       "      <td>9.869642e+06</td>\n",
       "      <td>8.948269e+06</td>\n",
       "      <td>NaN</td>\n",
       "      <td>52.355190</td>\n",
       "      <td>4.863950</td>\n",
       "      <td>2.000000</td>\n",
       "      <td>2.000000</td>\n",
       "      <td>0.180000</td>\n",
       "      <td>1.000000</td>\n",
       "      <td>0.000000</td>\n",
       "      <td>99.000000</td>\n",
       "    </tr>\n",
       "    <tr>\n",
       "      <th>50%</th>\n",
       "      <td>1.874939e+07</td>\n",
       "      <td>2.711601e+07</td>\n",
       "      <td>NaN</td>\n",
       "      <td>52.364570</td>\n",
       "      <td>4.887130</td>\n",
       "      <td>2.000000</td>\n",
       "      <td>9.000000</td>\n",
       "      <td>0.380000</td>\n",
       "      <td>1.000000</td>\n",
       "      <td>0.000000</td>\n",
       "      <td>135.000000</td>\n",
       "    </tr>\n",
       "    <tr>\n",
       "      <th>75%</th>\n",
       "      <td>2.914232e+07</td>\n",
       "      <td>8.337686e+07</td>\n",
       "      <td>NaN</td>\n",
       "      <td>52.375110</td>\n",
       "      <td>4.909310</td>\n",
       "      <td>3.000000</td>\n",
       "      <td>24.000000</td>\n",
       "      <td>0.770000</td>\n",
       "      <td>1.000000</td>\n",
       "      <td>87.000000</td>\n",
       "      <td>190.000000</td>\n",
       "    </tr>\n",
       "    <tr>\n",
       "      <th>max</th>\n",
       "      <td>4.370900e+07</td>\n",
       "      <td>3.490175e+08</td>\n",
       "      <td>NaN</td>\n",
       "      <td>52.425090</td>\n",
       "      <td>5.018400</td>\n",
       "      <td>1001.000000</td>\n",
       "      <td>843.000000</td>\n",
       "      <td>50.000000</td>\n",
       "      <td>78.000000</td>\n",
       "      <td>365.000000</td>\n",
       "      <td>9000.000000</td>\n",
       "    </tr>\n",
       "  </tbody>\n",
       "</table>\n",
       "</div>"
      ],
      "text/plain": [
       "                 id       host_id  neighbourhood_group      latitude  \\\n",
       "count  1.290100e+04  1.290100e+04                  0.0  12901.000000   \n",
       "mean   1.984923e+07  6.321700e+07                  NaN     52.365313   \n",
       "std    1.216241e+07  8.010814e+07                  NaN      0.016418   \n",
       "min    2.016800e+04  3.592000e+03                  NaN     52.289270   \n",
       "25%    9.869642e+06  8.948269e+06                  NaN     52.355190   \n",
       "50%    1.874939e+07  2.711601e+07                  NaN     52.364570   \n",
       "75%    2.914232e+07  8.337686e+07                  NaN     52.375110   \n",
       "max    4.370900e+07  3.490175e+08                  NaN     52.425090   \n",
       "\n",
       "          longitude  minimum_nights  number_of_reviews  reviews_per_month  \\\n",
       "count  12901.000000    12901.000000       12901.000000       11305.000000   \n",
       "mean       4.889744        3.542516          24.803194           0.748501   \n",
       "std        0.036016       15.154077          53.406134           1.260791   \n",
       "min        4.755720        1.000000           0.000000           0.010000   \n",
       "25%        4.863950        2.000000           2.000000           0.180000   \n",
       "50%        4.887130        2.000000           9.000000           0.380000   \n",
       "75%        4.909310        3.000000          24.000000           0.770000   \n",
       "max        5.018400     1001.000000         843.000000          50.000000   \n",
       "\n",
       "       calculated_host_listings_count  availability_365         price  \n",
       "count                    12901.000000      12901.000000  12901.000000  \n",
       "mean                         2.136501         61.392295    166.959538  \n",
       "std                          6.001838        107.988329    234.794630  \n",
       "min                          1.000000          0.000000      6.000000  \n",
       "25%                          1.000000          0.000000     99.000000  \n",
       "50%                          1.000000          0.000000    135.000000  \n",
       "75%                          1.000000         87.000000    190.000000  \n",
       "max                         78.000000        365.000000   9000.000000  "
      ]
     },
     "execution_count": 7,
     "metadata": {},
     "output_type": "execute_result"
    }
   ],
   "source": [
    "df.describe()"
   ]
  },
  {
   "cell_type": "code",
   "execution_count": 8,
   "id": "5d9a0191",
   "metadata": {},
   "outputs": [
    {
     "data": {
      "text/plain": [
       "Index(['id', 'name', 'host_id', 'host_name', 'neighbourhood_group',\n",
       "       'neighbourhood', 'latitude', 'longitude', 'room_type', 'minimum_nights',\n",
       "       'number_of_reviews', 'last_review', 'reviews_per_month',\n",
       "       'calculated_host_listings_count', 'availability_365', 'price'],\n",
       "      dtype='object')"
      ]
     },
     "execution_count": 8,
     "metadata": {},
     "output_type": "execute_result"
    }
   ],
   "source": [
    "df.columns"
   ]
  },
  {
   "cell_type": "code",
   "execution_count": 9,
   "id": "6ef8d189",
   "metadata": {},
   "outputs": [
    {
     "data": {
      "text/plain": [
       "id                                    0\n",
       "name                                 22\n",
       "host_id                               0\n",
       "host_name                             8\n",
       "neighbourhood_group               12901\n",
       "neighbourhood                         0\n",
       "latitude                              0\n",
       "longitude                             0\n",
       "room_type                             0\n",
       "minimum_nights                        0\n",
       "number_of_reviews                     0\n",
       "last_review                        1596\n",
       "reviews_per_month                  1596\n",
       "calculated_host_listings_count        0\n",
       "availability_365                      0\n",
       "price                                 0\n",
       "dtype: int64"
      ]
     },
     "execution_count": 9,
     "metadata": {},
     "output_type": "execute_result"
    }
   ],
   "source": [
    "df.isnull().sum()"
   ]
  },
  {
   "cell_type": "code",
   "execution_count": 10,
   "id": "d4127a24",
   "metadata": {},
   "outputs": [
    {
     "data": {
      "text/plain": [
       "id                                12901\n",
       "name                              12653\n",
       "host_id                           11601\n",
       "host_name                          4536\n",
       "neighbourhood_group                   0\n",
       "neighbourhood                        22\n",
       "latitude                           5227\n",
       "longitude                          7887\n",
       "room_type                             4\n",
       "minimum_nights                       56\n",
       "number_of_reviews                   362\n",
       "last_review                        1495\n",
       "reviews_per_month                   610\n",
       "calculated_host_listings_count       26\n",
       "availability_365                    366\n",
       "price                               400\n",
       "dtype: int64"
      ]
     },
     "execution_count": 10,
     "metadata": {},
     "output_type": "execute_result"
    }
   ],
   "source": [
    "df.nunique()"
   ]
  },
  {
   "cell_type": "code",
   "execution_count": 11,
   "id": "d05996bf",
   "metadata": {},
   "outputs": [],
   "source": [
    "df.drop(['name','host_name','neighbourhood_group'], axis=1, inplace =True)"
   ]
  },
  {
   "cell_type": "code",
   "execution_count": 12,
   "id": "33d1ccfa",
   "metadata": {},
   "outputs": [],
   "source": [
    "df.drop(['last_review','reviews_per_month'], axis=1, inplace =True)"
   ]
  },
  {
   "cell_type": "code",
   "execution_count": 13,
   "id": "960f2acd",
   "metadata": {},
   "outputs": [],
   "source": [
    "df['neighbourhood'] = df['neighbourhood'].astype('category')"
   ]
  },
  {
   "cell_type": "code",
   "execution_count": 14,
   "id": "aaac7ed3",
   "metadata": {},
   "outputs": [],
   "source": [
    "df['neighbourhood'] = df['neighbourhood'].cat.codes"
   ]
  },
  {
   "cell_type": "code",
   "execution_count": 15,
   "id": "6f90d033",
   "metadata": {},
   "outputs": [
    {
     "data": {
      "text/plain": [
       "7     2209\n",
       "8     1600\n",
       "5     1429\n",
       "4     1097\n",
       "20     958\n",
       "21     924\n",
       "17     831\n",
       "2      730\n",
       "14     644\n",
       "19     381\n",
       "16     376\n",
       "11     321\n",
       "18     269\n",
       "13     257\n",
       "12     171\n",
       "3      155\n",
       "10     144\n",
       "6       88\n",
       "15      83\n",
       "9       80\n",
       "0       78\n",
       "1       76\n",
       "Name: neighbourhood, dtype: int64"
      ]
     },
     "execution_count": 15,
     "metadata": {},
     "output_type": "execute_result"
    }
   ],
   "source": [
    "df['neighbourhood'].value_counts()"
   ]
  },
  {
   "cell_type": "code",
   "execution_count": 16,
   "id": "878048a2",
   "metadata": {},
   "outputs": [
    {
     "data": {
      "text/plain": [
       "Entire home/apt    10064\n",
       "Private room        2622\n",
       "Hotel room           174\n",
       "Shared room           41\n",
       "Name: room_type, dtype: int64"
      ]
     },
     "execution_count": 16,
     "metadata": {},
     "output_type": "execute_result"
    }
   ],
   "source": [
    "df['room_type'].value_counts()"
   ]
  },
  {
   "cell_type": "code",
   "execution_count": 17,
   "id": "1bf72bf3",
   "metadata": {},
   "outputs": [],
   "source": [
    "df = pd.get_dummies(df, columns=['room_type'])\n"
   ]
  },
  {
   "cell_type": "code",
   "execution_count": 18,
   "id": "5569d94a",
   "metadata": {},
   "outputs": [
    {
     "data": {
      "text/html": [
       "<div>\n",
       "<style scoped>\n",
       "    .dataframe tbody tr th:only-of-type {\n",
       "        vertical-align: middle;\n",
       "    }\n",
       "\n",
       "    .dataframe tbody tr th {\n",
       "        vertical-align: top;\n",
       "    }\n",
       "\n",
       "    .dataframe thead th {\n",
       "        text-align: right;\n",
       "    }\n",
       "</style>\n",
       "<table border=\"1\" class=\"dataframe\">\n",
       "  <thead>\n",
       "    <tr style=\"text-align: right;\">\n",
       "      <th></th>\n",
       "      <th>id</th>\n",
       "      <th>host_id</th>\n",
       "      <th>neighbourhood</th>\n",
       "      <th>latitude</th>\n",
       "      <th>longitude</th>\n",
       "      <th>minimum_nights</th>\n",
       "      <th>number_of_reviews</th>\n",
       "      <th>calculated_host_listings_count</th>\n",
       "      <th>availability_365</th>\n",
       "      <th>price</th>\n",
       "      <th>room_type_Entire home/apt</th>\n",
       "      <th>room_type_Hotel room</th>\n",
       "      <th>room_type_Private room</th>\n",
       "      <th>room_type_Shared room</th>\n",
       "    </tr>\n",
       "  </thead>\n",
       "  <tbody>\n",
       "    <tr>\n",
       "      <th>0</th>\n",
       "      <td>11602914</td>\n",
       "      <td>3123809</td>\n",
       "      <td>8</td>\n",
       "      <td>52.35368</td>\n",
       "      <td>4.90177</td>\n",
       "      <td>3</td>\n",
       "      <td>13</td>\n",
       "      <td>1</td>\n",
       "      <td>0</td>\n",
       "      <td>220</td>\n",
       "      <td>1</td>\n",
       "      <td>0</td>\n",
       "      <td>0</td>\n",
       "      <td>0</td>\n",
       "    </tr>\n",
       "    <tr>\n",
       "      <th>1</th>\n",
       "      <td>13289321</td>\n",
       "      <td>10259430</td>\n",
       "      <td>17</td>\n",
       "      <td>52.35728</td>\n",
       "      <td>4.92052</td>\n",
       "      <td>4</td>\n",
       "      <td>14</td>\n",
       "      <td>1</td>\n",
       "      <td>0</td>\n",
       "      <td>110</td>\n",
       "      <td>1</td>\n",
       "      <td>0</td>\n",
       "      <td>0</td>\n",
       "      <td>0</td>\n",
       "    </tr>\n",
       "    <tr>\n",
       "      <th>2</th>\n",
       "      <td>40779315</td>\n",
       "      <td>224969266</td>\n",
       "      <td>5</td>\n",
       "      <td>52.37582</td>\n",
       "      <td>4.89850</td>\n",
       "      <td>2</td>\n",
       "      <td>9</td>\n",
       "      <td>1</td>\n",
       "      <td>7</td>\n",
       "      <td>100</td>\n",
       "      <td>1</td>\n",
       "      <td>0</td>\n",
       "      <td>0</td>\n",
       "      <td>0</td>\n",
       "    </tr>\n",
       "    <tr>\n",
       "      <th>3</th>\n",
       "      <td>7820311</td>\n",
       "      <td>693472</td>\n",
       "      <td>20</td>\n",
       "      <td>52.37792</td>\n",
       "      <td>4.87300</td>\n",
       "      <td>3</td>\n",
       "      <td>42</td>\n",
       "      <td>1</td>\n",
       "      <td>0</td>\n",
       "      <td>130</td>\n",
       "      <td>1</td>\n",
       "      <td>0</td>\n",
       "      <td>0</td>\n",
       "      <td>0</td>\n",
       "    </tr>\n",
       "    <tr>\n",
       "      <th>4</th>\n",
       "      <td>27346603</td>\n",
       "      <td>41888346</td>\n",
       "      <td>20</td>\n",
       "      <td>52.38051</td>\n",
       "      <td>4.87493</td>\n",
       "      <td>2</td>\n",
       "      <td>89</td>\n",
       "      <td>1</td>\n",
       "      <td>24</td>\n",
       "      <td>90</td>\n",
       "      <td>0</td>\n",
       "      <td>0</td>\n",
       "      <td>1</td>\n",
       "      <td>0</td>\n",
       "    </tr>\n",
       "  </tbody>\n",
       "</table>\n",
       "</div>"
      ],
      "text/plain": [
       "         id    host_id  neighbourhood  latitude  longitude  minimum_nights  \\\n",
       "0  11602914    3123809              8  52.35368    4.90177               3   \n",
       "1  13289321   10259430             17  52.35728    4.92052               4   \n",
       "2  40779315  224969266              5  52.37582    4.89850               2   \n",
       "3   7820311     693472             20  52.37792    4.87300               3   \n",
       "4  27346603   41888346             20  52.38051    4.87493               2   \n",
       "\n",
       "   number_of_reviews  calculated_host_listings_count  availability_365  price  \\\n",
       "0                 13                               1                 0    220   \n",
       "1                 14                               1                 0    110   \n",
       "2                  9                               1                 7    100   \n",
       "3                 42                               1                 0    130   \n",
       "4                 89                               1                24     90   \n",
       "\n",
       "   room_type_Entire home/apt  room_type_Hotel room  room_type_Private room  \\\n",
       "0                          1                     0                       0   \n",
       "1                          1                     0                       0   \n",
       "2                          1                     0                       0   \n",
       "3                          1                     0                       0   \n",
       "4                          0                     0                       1   \n",
       "\n",
       "   room_type_Shared room  \n",
       "0                      0  \n",
       "1                      0  \n",
       "2                      0  \n",
       "3                      0  \n",
       "4                      0  "
      ]
     },
     "execution_count": 18,
     "metadata": {},
     "output_type": "execute_result"
    }
   ],
   "source": [
    "df.head()"
   ]
  },
  {
   "cell_type": "code",
   "execution_count": 19,
   "id": "7c860509",
   "metadata": {},
   "outputs": [
    {
     "data": {
      "text/plain": [
       "id                                  int64\n",
       "host_id                             int64\n",
       "neighbourhood                        int8\n",
       "latitude                          float64\n",
       "longitude                         float64\n",
       "minimum_nights                      int64\n",
       "number_of_reviews                   int64\n",
       "calculated_host_listings_count      int64\n",
       "availability_365                    int64\n",
       "price                               int64\n",
       "room_type_Entire home/apt           uint8\n",
       "room_type_Hotel room                uint8\n",
       "room_type_Private room              uint8\n",
       "room_type_Shared room               uint8\n",
       "dtype: object"
      ]
     },
     "execution_count": 19,
     "metadata": {},
     "output_type": "execute_result"
    }
   ],
   "source": [
    "df.dtypes"
   ]
  },
  {
   "cell_type": "code",
   "execution_count": 20,
   "id": "6f0407b1",
   "metadata": {},
   "outputs": [
    {
     "data": {
      "text/plain": [
       "<matplotlib.collections.PathCollection at 0x1fc6bb1b1c0>"
      ]
     },
     "execution_count": 20,
     "metadata": {},
     "output_type": "execute_result"
    },
    {
     "data": {
      "image/png": "[encoded data removed]",
      "text/plain": [
       "<Figure size 432x288 with 1 Axes>"
      ]
     },
     "metadata": {
      "needs_background": "light"
     },
     "output_type": "display_data"
    }
   ],
   "source": [
    "plt.scatter(df.minimum_nights,df.price)"
   ]
  },
  {
   "cell_type": "code",
   "execution_count": 21,
   "id": "00e28d82",
   "metadata": {},
   "outputs": [
    {
     "data": {
      "text/plain": [
       "<seaborn.axisgrid.FacetGrid at 0x1fc6baac700>"
      ]
     },
     "execution_count": 21,
     "metadata": {},
     "output_type": "execute_result"
    },
    {
     "data": {
      "image/png": "[encoded data removed]",
      "text/plain": [
       "<Figure size 360x360 with 1 Axes>"
      ]
     },
     "metadata": {
      "needs_background": "light"
     },
     "output_type": "display_data"
    }
   ],
   "source": [
    "sns.displot(df['availability_365'],kde = True,color = \"g\" )"
   ]
  },
  {
   "cell_type": "code",
   "execution_count": 49,
   "id": "2456c4fa",
   "metadata": {},
   "outputs": [
    {
     "data": {
      "text/plain": [
       "<seaborn.axisgrid.FacetGrid at 0x1fc7334fbb0>"
      ]
     },
     "execution_count": 49,
     "metadata": {},
     "output_type": "execute_result"
    },
    {
     "data": {
      "text/plain": [
       "<Figure size 1080x360 with 0 Axes>"
      ]
     },
     "metadata": {},
     "output_type": "display_data"
    },
    {
     "data": {
      "image/png": "[encoded data removed]",
      "text/plain": [
       "<Figure size 360x360 with 1 Axes>"
      ]
     },
     "metadata": {
      "needs_background": "light"
     },
     "output_type": "display_data"
    }
   ],
   "source": [
    "plt.figure(figsize=(15,5))\n",
    "sns.displot(df['number_of_reviews'],kde = True,color = \"y\" )"
   ]
  },
  {
   "cell_type": "code",
   "execution_count": 41,
   "id": "59dc84dc",
   "metadata": {},
   "outputs": [
    {
     "data": {
      "text/plain": [
       "<AxesSubplot:>"
      ]
     },
     "execution_count": 41,
     "metadata": {},
     "output_type": "execute_result"
    },
    {
     "data": {
      "image/png": "[encoded data removed]",
      "text/plain": [
       "<Figure size 720x360 with 2 Axes>"
      ]
     },
     "metadata": {
      "needs_background": "light"
     },
     "output_type": "display_data"
    }
   ],
   "source": [
    "plt.figure(figsize=(10,5))\n",
    "sns.heatmap(df.corr(), annot = True,cmap=plt.cm.get_cmap('viridis_r'))"
   ]
  },
  {
   "cell_type": "code",
   "execution_count": 27,
   "id": "7d41474a",
   "metadata": {},
   "outputs": [
    {
     "data": {
      "text/plain": [
       "<AxesSubplot:xlabel='room_type_Hotel room', ylabel='price'>"
      ]
     },
     "execution_count": 27,
     "metadata": {},
     "output_type": "execute_result"
    },
    {
     "data": {
      "image/png": "[encoded data removed]",
      "text/plain": [
       "<Figure size 432x288 with 1 Axes>"
      ]
     },
     "metadata": {
      "needs_background": "light"
     },
     "output_type": "display_data"
    }
   ],
   "source": [
    "sns.lineplot(x = df[\"room_type_Hotel room\"], y = df[\"price\"])"
   ]
  },
  {
   "cell_type": "code",
   "execution_count": 28,
   "id": "dd7f043a",
   "metadata": {},
   "outputs": [],
   "source": [
    "X = df.drop('price', axis = 1)\n",
    "y = df['price']"
   ]
  },
  {
   "cell_type": "code",
   "execution_count": 29,
   "id": "4edb923b",
   "metadata": {},
   "outputs": [],
   "source": [
    "from sklearn.model_selection import train_test_split \n",
    "X_train, X_test, y_train, y_test = train_test_split(X, y, test_size=0.20, random_state=5)"
   ]
  },
  {
   "cell_type": "code",
   "execution_count": 31,
   "id": "a16ad2b4",
   "metadata": {},
   "outputs": [],
   "source": [
    "from sklearn.linear_model import LinearRegression"
   ]
  },
  {
   "cell_type": "code",
   "execution_count": 32,
   "id": "aa5386bf",
   "metadata": {},
   "outputs": [],
   "source": [
    "reg = LinearRegression()"
   ]
  },
  {
   "cell_type": "code",
   "execution_count": 33,
   "id": "41b3ead0",
   "metadata": {},
   "outputs": [
    {
     "data": {
      "text/plain": [
       "LinearRegression()"
      ]
     },
     "execution_count": 33,
     "metadata": {},
     "output_type": "execute_result"
    }
   ],
   "source": [
    "reg.fit(X_train,y_train)"
   ]
  },
  {
   "cell_type": "code",
   "execution_count": 34,
   "id": "ef96b7bb",
   "metadata": {},
   "outputs": [
    {
     "data": {
      "text/plain": [
       "0.05806683722654571"
      ]
     },
     "execution_count": 34,
     "metadata": {},
     "output_type": "execute_result"
    }
   ],
   "source": [
    "reg.score(X_test,y_test)"
   ]
  },
  {
   "cell_type": "code",
   "execution_count": 38,
   "id": "2aad86f6",
   "metadata": {},
   "outputs": [
    {
     "name": "stdout",
     "output_type": "stream",
     "text": [
      "Requirement already satisfied: catboost in c:\\users\\sachin\\appdata\\local\\programs\\python\\python310\\lib\\site-packages (1.0.5)\n",
      "Requirement already satisfied: numpy>=1.16.0 in c:\\users\\sachin\\appdata\\local\\programs\\python\\python310\\lib\\site-packages (from catboost) (1.22.3)\n",
      "Requirement already satisfied: scipy in c:\\users\\sachin\\appdata\\local\\programs\\python\\python310\\lib\\site-packages (from catboost) (1.8.0)\n",
      "Requirement already satisfied: six in c:\\users\\sachin\\appdata\\local\\programs\\python\\python310\\lib\\site-packages (from catboost) (1.16.0)\n",
      "Requirement already satisfied: pandas>=0.24.0 in c:\\users\\sachin\\appdata\\local\\programs\\python\\python310\\lib\\site-packages (from catboost) (1.4.2)\n",
      "Requirement already satisfied: matplotlib in c:\\users\\sachin\\appdata\\local\\programs\\python\\python310\\lib\\site-packages (from catboost) (3.5.1)\n",
      "Requirement already satisfied: plotly in c:\\users\\sachin\\appdata\\local\\programs\\python\\python310\\lib\\site-packages (from catboost) (5.8.0)\n",
      "Requirement already satisfied: graphviz in c:\\users\\sachin\\appdata\\local\\programs\\python\\python310\\lib\\site-packages (from catboost) (0.20)\n",
      "Requirement already satisfied: python-dateutil>=2.8.1 in c:\\users\\sachin\\appdata\\local\\programs\\python\\python310\\lib\\site-packages (from pandas>=0.24.0->catboost) (2.8.2)\n",
      "Requirement already satisfied: pytz>=2020.1 in c:\\users\\sachin\\appdata\\local\\programs\\python\\python310\\lib\\site-packages (from pandas>=0.24.0->catboost) (2022.1)\n",
      "Requirement already satisfied: pillow>=6.2.0 in c:\\users\\sachin\\appdata\\local\\programs\\python\\python310\\lib\\site-packages (from matplotlib->catboost) (9.1.0)\n",
      "Requirement already satisfied: pyparsing>=2.2.1 in c:\\users\\sachin\\appdata\\local\\programs\\python\\python310\\lib\\site-packages (from matplotlib->catboost) (3.0.6)\n",
      "Requirement already satisfied: fonttools>=4.22.0 in c:\\users\\sachin\\appdata\\local\\programs\\python\\python310\\lib\\site-packages (from matplotlib->catboost) (4.31.2)\n",
      "Requirement already satisfied: kiwisolver>=1.0.1 in c:\\users\\sachin\\appdata\\local\\programs\\python\\python310\\lib\\site-packages (from matplotlib->catboost) (1.4.2)\n",
      "Requirement already satisfied: packaging>=20.0 in c:\\users\\sachin\\appdata\\local\\programs\\python\\python310\\lib\\site-packages (from matplotlib->catboost) (21.3)\n",
      "Requirement already satisfied: cycler>=0.10 in c:\\users\\sachin\\appdata\\local\\programs\\python\\python310\\lib\\site-packages (from matplotlib->catboost) (0.11.0)\n",
      "Requirement already satisfied: tenacity>=6.2.0 in c:\\users\\sachin\\appdata\\local\\programs\\python\\python310\\lib\\site-packages (from plotly->catboost) (8.0.1)\n"
     ]
    },
    {
     "name": "stderr",
     "output_type": "stream",
     "text": [
      "WARNING: You are using pip version 21.2.3; however, version 22.1 is available.\n",
      "You should consider upgrading via the 'C:\\Users\\Sachin\\AppData\\Local\\Programs\\Python\\Python310\\python.exe -m pip install --upgrade pip' command.\n"
     ]
    }
   ],
   "source": [
    "!pip install catboost"
   ]
  },
  {
   "cell_type": "code",
   "execution_count": 39,
   "id": "d23809c1",
   "metadata": {},
   "outputs": [],
   "source": [
    "from catboost import CatBoostRegressor\n",
    "from sklearn.model_selection import GridSearchCV"
   ]
  },
  {
   "cell_type": "code",
   "execution_count": 42,
   "id": "77cb41d0",
   "metadata": {},
   "outputs": [
    {
     "name": "stderr",
     "output_type": "stream",
     "text": [
      "C:\\Users\\Sachin\\AppData\\Local\\Programs\\Python\\Python310\\lib\\site-packages\\sklearn\\model_selection\\_validation.py:372: FitFailedWarning: \n",
      "18 fits failed out of a total of 72.\n",
      "The score on these train-test partitions for these parameters will be set to nan.\n",
      "If these failures are not expected, you can try to debug them by setting error_score='raise'.\n",
      "\n",
      "Below are more details about the failures:\n",
      "--------------------------------------------------------------------------------\n",
      "18 fits failed with the following error:\n",
      "Traceback (most recent call last):\n",
      "  File \"C:\\Users\\Sachin\\AppData\\Local\\Programs\\Python\\Python310\\lib\\site-packages\\sklearn\\model_selection\\_validation.py\", line 680, in _fit_and_score\n",
      "    estimator.fit(X_train, y_train, **fit_params)\n",
      "  File \"C:\\Users\\Sachin\\AppData\\Local\\Programs\\Python\\Python310\\lib\\site-packages\\catboost\\core.py\", line 5504, in fit\n",
      "    return self._fit(X, y, cat_features, None, None, None, sample_weight, None, None, None, None, baseline,\n",
      "  File \"C:\\Users\\Sachin\\AppData\\Local\\Programs\\Python\\Python310\\lib\\site-packages\\catboost\\core.py\", line 2176, in _fit\n",
      "    train_params = self._prepare_train_params(\n",
      "  File \"C:\\Users\\Sachin\\AppData\\Local\\Programs\\Python\\Python310\\lib\\site-packages\\catboost\\core.py\", line 2108, in _prepare_train_params\n",
      "    _check_train_params(params)\n",
      "  File \"_catboost.pyx\", line 5855, in _catboost._check_train_params\n",
      "  File \"_catboost.pyx\", line 5874, in _catboost._check_train_params\n",
      "_catboost.CatBoostError: C:/Program Files (x86)/Go Agent/pipelines/BuildMaster/catboost.git/catboost/private/libs/options/oblivious_tree_options.cpp:122: Maximum tree depth is 16\n",
      "\n",
      "  warnings.warn(some_fits_failed_message, FitFailedWarning)\n",
      "C:\\Users\\Sachin\\AppData\\Local\\Programs\\Python\\Python310\\lib\\site-packages\\sklearn\\model_selection\\_search.py:969: UserWarning: One or more of the test scores are non-finite: [0.08690796 0.27350887 0.31920313 0.12992702 0.32194168 0.33191097\n",
      " 0.21451461 0.34176172 0.33619531 0.08801738 0.26730976 0.34157104\n",
      " 0.13260395 0.32448056 0.35506912 0.21797058 0.35875953 0.35918992\n",
      " 0.08393552 0.27346126 0.33950668 0.12997253 0.32899664 0.35506946\n",
      " 0.21046253 0.37292851 0.3655468         nan        nan        nan\n",
      "        nan        nan        nan        nan        nan        nan]\n",
      "  warnings.warn(\n"
     ]
    },
    {
     "name": "stdout",
     "output_type": "stream",
     "text": [
      "0:\tlearn: 244.6989545\ttotal: 850ms\tremaining: 1m 24s\n",
      "1:\tlearn: 240.3644578\ttotal: 1.33s\tremaining: 1m 5s\n",
      "2:\tlearn: 236.0559295\ttotal: 1.61s\tremaining: 52.1s\n",
      "3:\tlearn: 232.2016390\ttotal: 1.9s\tremaining: 45.5s\n",
      "4:\tlearn: 228.1956579\ttotal: 2.12s\tremaining: 40.3s\n",
      "5:\tlearn: 224.9237474\ttotal: 2.38s\tremaining: 37.3s\n",
      "6:\tlearn: 221.8833684\ttotal: 2.66s\tremaining: 35.4s\n",
      "7:\tlearn: 219.3503067\ttotal: 2.97s\tremaining: 34.2s\n",
      "8:\tlearn: 216.4718446\ttotal: 3.22s\tremaining: 32.5s\n",
      "9:\tlearn: 213.6216524\ttotal: 3.55s\tremaining: 31.9s\n",
      "10:\tlearn: 211.1899130\ttotal: 3.98s\tremaining: 32.2s\n",
      "11:\tlearn: 208.6967289\ttotal: 4.25s\tremaining: 31.2s\n",
      "12:\tlearn: 206.1304365\ttotal: 4.54s\tremaining: 30.4s\n",
      "13:\tlearn: 203.7442569\ttotal: 4.76s\tremaining: 29.2s\n",
      "14:\tlearn: 201.2946610\ttotal: 5.07s\tremaining: 28.7s\n",
      "15:\tlearn: 198.9729070\ttotal: 5.39s\tremaining: 28.3s\n",
      "16:\tlearn: 196.9597111\ttotal: 5.73s\tremaining: 28s\n",
      "17:\tlearn: 195.0154714\ttotal: 6.14s\tremaining: 28s\n",
      "18:\tlearn: 193.1276459\ttotal: 6.51s\tremaining: 27.8s\n",
      "19:\tlearn: 191.3111159\ttotal: 6.8s\tremaining: 27.2s\n",
      "20:\tlearn: 189.6736366\ttotal: 7.15s\tremaining: 26.9s\n",
      "21:\tlearn: 187.5901893\ttotal: 7.52s\tremaining: 26.7s\n",
      "22:\tlearn: 186.0438219\ttotal: 7.96s\tremaining: 26.6s\n",
      "23:\tlearn: 184.0771554\ttotal: 8.26s\tremaining: 26.1s\n",
      "24:\tlearn: 182.5372133\ttotal: 8.51s\tremaining: 25.5s\n",
      "25:\tlearn: 181.0530296\ttotal: 8.86s\tremaining: 25.2s\n",
      "26:\tlearn: 179.0588672\ttotal: 9.09s\tremaining: 24.6s\n",
      "27:\tlearn: 177.6159734\ttotal: 9.48s\tremaining: 24.4s\n",
      "28:\tlearn: 176.7225518\ttotal: 9.78s\tremaining: 24s\n",
      "29:\tlearn: 175.5281907\ttotal: 10.1s\tremaining: 23.6s\n",
      "30:\tlearn: 174.6293215\ttotal: 10.5s\tremaining: 23.3s\n",
      "31:\tlearn: 173.6041192\ttotal: 10.9s\tremaining: 23.1s\n",
      "32:\tlearn: 172.4540835\ttotal: 11.2s\tremaining: 22.8s\n",
      "33:\tlearn: 170.9256730\ttotal: 11.5s\tremaining: 22.3s\n",
      "34:\tlearn: 170.0336691\ttotal: 11.8s\tremaining: 21.9s\n",
      "35:\tlearn: 169.0348352\ttotal: 12.1s\tremaining: 21.5s\n",
      "36:\tlearn: 168.2347697\ttotal: 12.4s\tremaining: 21.1s\n",
      "37:\tlearn: 167.6594004\ttotal: 12.6s\tremaining: 20.6s\n",
      "38:\tlearn: 167.1059380\ttotal: 13s\tremaining: 20.3s\n",
      "39:\tlearn: 166.1340629\ttotal: 13.3s\tremaining: 20s\n",
      "40:\tlearn: 165.5897957\ttotal: 13.6s\tremaining: 19.6s\n",
      "41:\tlearn: 165.0462452\ttotal: 13.9s\tremaining: 19.2s\n",
      "42:\tlearn: 164.5317993\ttotal: 14.3s\tremaining: 19s\n",
      "43:\tlearn: 163.5931707\ttotal: 14.7s\tremaining: 18.7s\n",
      "44:\tlearn: 163.0756070\ttotal: 15s\tremaining: 18.3s\n",
      "45:\tlearn: 162.0397363\ttotal: 15.3s\tremaining: 18s\n",
      "46:\tlearn: 160.8997092\ttotal: 15.6s\tremaining: 17.6s\n",
      "47:\tlearn: 160.4497129\ttotal: 15.9s\tremaining: 17.3s\n",
      "48:\tlearn: 160.0313069\ttotal: 16.3s\tremaining: 16.9s\n",
      "49:\tlearn: 158.9751323\ttotal: 16.5s\tremaining: 16.5s\n",
      "50:\tlearn: 158.2032892\ttotal: 16.8s\tremaining: 16.2s\n",
      "51:\tlearn: 157.6024947\ttotal: 17.1s\tremaining: 15.8s\n",
      "52:\tlearn: 157.2056957\ttotal: 17.4s\tremaining: 15.5s\n",
      "53:\tlearn: 156.3297087\ttotal: 17.8s\tremaining: 15.2s\n",
      "54:\tlearn: 155.7215710\ttotal: 18.2s\tremaining: 14.9s\n",
      "55:\tlearn: 154.8430151\ttotal: 18.5s\tremaining: 14.5s\n",
      "56:\tlearn: 154.4538534\ttotal: 18.8s\tremaining: 14.2s\n",
      "57:\tlearn: 154.0921515\ttotal: 19.1s\tremaining: 13.8s\n",
      "58:\tlearn: 153.6592069\ttotal: 19.4s\tremaining: 13.5s\n",
      "59:\tlearn: 153.0427029\ttotal: 19.7s\tremaining: 13.1s\n",
      "60:\tlearn: 152.3699241\ttotal: 19.9s\tremaining: 12.8s\n",
      "61:\tlearn: 151.8830968\ttotal: 20.2s\tremaining: 12.4s\n",
      "62:\tlearn: 151.4348328\ttotal: 20.5s\tremaining: 12.1s\n",
      "63:\tlearn: 151.0048152\ttotal: 20.9s\tremaining: 11.7s\n",
      "64:\tlearn: 150.3385189\ttotal: 21.1s\tremaining: 11.4s\n",
      "65:\tlearn: 149.9919414\ttotal: 21.4s\tremaining: 11s\n",
      "66:\tlearn: 149.8085912\ttotal: 21.5s\tremaining: 10.6s\n",
      "67:\tlearn: 149.4331295\ttotal: 22s\tremaining: 10.4s\n",
      "68:\tlearn: 149.0380047\ttotal: 22.3s\tremaining: 10s\n",
      "69:\tlearn: 148.4861829\ttotal: 22.6s\tremaining: 9.7s\n",
      "70:\tlearn: 148.1046045\ttotal: 23s\tremaining: 9.38s\n",
      "71:\tlearn: 147.5077954\ttotal: 23.2s\tremaining: 9.04s\n",
      "72:\tlearn: 146.9542141\ttotal: 23.6s\tremaining: 8.71s\n",
      "73:\tlearn: 146.5478602\ttotal: 23.7s\tremaining: 8.34s\n",
      "74:\tlearn: 146.1231816\ttotal: 24s\tremaining: 8s\n",
      "75:\tlearn: 145.6611184\ttotal: 24.3s\tremaining: 7.67s\n",
      "76:\tlearn: 145.1748020\ttotal: 24.6s\tremaining: 7.35s\n",
      "77:\tlearn: 144.7956644\ttotal: 25s\tremaining: 7.05s\n",
      "78:\tlearn: 144.4394639\ttotal: 25.4s\tremaining: 6.75s\n",
      "79:\tlearn: 144.1822151\ttotal: 25.8s\tremaining: 6.45s\n",
      "80:\tlearn: 143.8249805\ttotal: 26.1s\tremaining: 6.13s\n",
      "81:\tlearn: 143.3767809\ttotal: 26.4s\tremaining: 5.79s\n",
      "82:\tlearn: 142.9920287\ttotal: 26.8s\tremaining: 5.49s\n",
      "83:\tlearn: 142.6865474\ttotal: 27.1s\tremaining: 5.16s\n",
      "84:\tlearn: 142.3235158\ttotal: 27.3s\tremaining: 4.82s\n",
      "85:\tlearn: 142.1116065\ttotal: 27.6s\tremaining: 4.5s\n",
      "86:\tlearn: 141.7364117\ttotal: 28s\tremaining: 4.18s\n",
      "87:\tlearn: 141.5024610\ttotal: 28.3s\tremaining: 3.86s\n",
      "88:\tlearn: 141.1683012\ttotal: 28.6s\tremaining: 3.54s\n",
      "89:\tlearn: 140.9785572\ttotal: 29.1s\tremaining: 3.23s\n",
      "90:\tlearn: 140.5685024\ttotal: 29.4s\tremaining: 2.91s\n",
      "91:\tlearn: 140.3564107\ttotal: 29.7s\tremaining: 2.59s\n",
      "92:\tlearn: 139.9345801\ttotal: 30.1s\tremaining: 2.26s\n",
      "93:\tlearn: 139.5708796\ttotal: 30.4s\tremaining: 1.94s\n",
      "94:\tlearn: 139.1761755\ttotal: 30.8s\tremaining: 1.62s\n",
      "95:\tlearn: 138.8204804\ttotal: 31.2s\tremaining: 1.3s\n",
      "96:\tlearn: 138.6093936\ttotal: 31.5s\tremaining: 975ms\n",
      "97:\tlearn: 138.2237549\ttotal: 31.9s\tremaining: 651ms\n",
      "98:\tlearn: 137.9472634\ttotal: 32s\tremaining: 324ms\n",
      "99:\tlearn: 137.5946707\ttotal: 32.2s\tremaining: 0us\n"
     ]
    },
    {
     "data": {
      "text/plain": [
       "GridSearchCV(cv=2,\n",
       "             estimator=<catboost.core.CatBoostRegressor object at 0x000001FC0CA23F70>,\n",
       "             n_jobs=-1,\n",
       "             param_grid={'depth': [6, 8, 10, 21], 'iterations': [30, 50, 100],\n",
       "                         'learning_rate': [0.01, 0.05, 0.1]})"
      ]
     },
     "execution_count": 42,
     "metadata": {},
     "output_type": "execute_result"
    }
   ],
   "source": [
    "model = CatBoostRegressor(random_seed = 42 )\n",
    "parameters = {'depth'         : [6,8,10,21],\n",
    "                  'learning_rate' : [0.01, 0.05, 0.1],\n",
    "                  'iterations'    : [30, 50, 100]\n",
    "              }\n",
    "grid = GridSearchCV(estimator=model, param_grid = parameters, cv = 2, n_jobs=-1)\n",
    "grid.fit(X_train, y_train)"
   ]
  },
  {
   "cell_type": "code",
   "execution_count": 43,
   "id": "eb5cc82d",
   "metadata": {},
   "outputs": [],
   "source": [
    "pred = grid.predict(X_test)"
   ]
  },
  {
   "cell_type": "code",
   "execution_count": 44,
   "id": "79993ba9",
   "metadata": {},
   "outputs": [
    {
     "data": {
      "text/plain": [
       "0.1128980935090107"
      ]
     },
     "execution_count": 44,
     "metadata": {},
     "output_type": "execute_result"
    }
   ],
   "source": [
    "grid.score(X_test, y_test)"
   ]
  },
  {
   "cell_type": "code",
   "execution_count": 45,
   "id": "2fcada62",
   "metadata": {},
   "outputs": [
    {
     "data": {
      "text/plain": [
       "0.1128980935090107"
      ]
     },
     "execution_count": 45,
     "metadata": {},
     "output_type": "execute_result"
    }
   ],
   "source": [
    "r2_score(y_test, pred)"
   ]
  },
  {
   "cell_type": "code",
   "execution_count": 46,
   "id": "ce2d161c",
   "metadata": {},
   "outputs": [
    {
     "name": "stdout",
     "output_type": "stream",
     "text": [
      "61.760897280787184\n",
      "24049.236019646887\n",
      "155.0781610016281\n"
     ]
    }
   ],
   "source": [
    "print(mean_absolute_error(y_test, pred), end='\\n')\n",
    "\n",
    "print(mean_squared_error(y_test, pred), end='\\n')\n",
    "\n",
    "print(np.sqrt(mean_squared_error(y_test, pred)))"
   ]
  },
  {
   "cell_type": "code",
   "execution_count": null,
   "id": "2a921e49",
   "metadata": {},
   "outputs": [],
   "source": []
  }
 ],
 "metadata": {
  "kernelspec": {
   "display_name": "Python 3 (ipykernel)",
   "language": "python",
   "name": "python3"
  },
  "language_info": {
   "codemirror_mode": {
    "name": "ipython",
    "version": 3
   },
   "file_extension": ".py",
   "mimetype": "text/x-python",
   "name": "python",
   "nbconvert_exporter": "python",
   "pygments_lexer": "ipython3",
   "version": "3.10.0"
  }
 },
 "nbformat": 4,
 "nbformat_minor": 5
}
